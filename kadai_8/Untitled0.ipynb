{
  "nbformat": 4,
  "nbformat_minor": 0,
  "metadata": {
    "colab": {
      "provenance": []
    },
    "kernelspec": {
      "name": "python3",
      "display_name": "Python 3"
    },
    "language_info": {
      "name": "python"
    }
  },
  "cells": [
    {
      "cell_type": "code",
      "source": [
        "#ランダムな整数を利用するために、randomモジュールをインポート\n",
        "import random\n",
        "# 変数varに1～20までのランダムな整数を代入する\n",
        "var = random.randint(1, 20)\n",
        "\n",
        "# 変数varが、3の倍数と5の倍数の両方に該当する場合は「FizzBuzz」を出力\n",
        "if var % 3==0 and var % 5==0:\n",
        "    print(\"FizzBuzz\")\n",
        "#変数varが、3の倍数の場合は「Fizz」を出力\n",
        "elif var % 3==0:\n",
        "    print(\"Fizz\")\n",
        "#変数varが、5の倍数の場合は「Buzz」を出力\n",
        "elif var % 5==0:\n",
        "    print(\"Buzz\")\n",
        "#上記のどの場合にも該当しない場合は、変数varの値を出力\n",
        "else:\n",
        "    print(var)"
      ],
      "metadata": {
        "colab": {
          "base_uri": "https://localhost:8080/"
        },
        "id": "cg9lCs5rfvPf",
        "outputId": "a85c0299-aaac-4a2f-b3f5-d88c64a21913"
      },
      "execution_count": null,
      "outputs": [
        {
          "output_type": "stream",
          "name": "stdout",
          "text": [
            "7\n"
          ]
        }
      ]
    }
  ]
}