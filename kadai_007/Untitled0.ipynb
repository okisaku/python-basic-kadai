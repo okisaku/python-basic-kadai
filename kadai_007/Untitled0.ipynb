{
  "nbformat": 4,
  "nbformat_minor": 0,
  "metadata": {
    "colab": {
      "provenance": [],
      "gpuType": "T4"
    },
    "kernelspec": {
      "name": "python3",
      "display_name": "Python 3"
    },
    "language_info": {
      "name": "python"
    },
    "accelerator": "GPU"
  },
  "cells": [
    {
      "cell_type": "code",
      "source": [
        "array = [\"月曜日は晴れです\",\n",
        "         \"火曜日は雨です\",\n",
        "         \"水曜日は晴れです\",\n",
        "         \"木曜日は晴れです\",\n",
        "         \"金曜日は曇りです\",\n",
        "         \"土曜日は曇りのち雨です\",\n",
        "         \"日曜日は雷雨です\"]\n",
        "print(array[2])\n",
        "\n",
        "dictionary = {\n",
        "    \"mon\":\"晴れ\",\n",
        "    \"tue\":\"雨\",\n",
        "    \"wed\":\"晴れ\",\n",
        "    \"thu\":\"晴れ\",\n",
        "    \"fri\":\"曇り\",\n",
        "    \"sat\":\"曇りのち雨\",\n",
        "    \"sun\":\"雷雨\"\n",
        "}\n",
        "print(dictionary[\"wed\"])"
      ],
      "metadata": {
        "colab": {
          "base_uri": "https://localhost:8080/"
        },
        "id": "1G18t6c-h_Mn",
        "outputId": "5377da3b-801e-44de-9510-2c01d41c911d"
      },
      "execution_count": 8,
      "outputs": [
        {
          "output_type": "stream",
          "name": "stdout",
          "text": [
            "水曜日は晴れです\n",
            "晴れ\n"
          ]
        }
      ]
    }
  ]
}